{
 "cells": [
  {
   "cell_type": "markdown",
   "metadata": {},
   "source": [
    "## No Show Appointments"
   ]
  },
  {
   "cell_type": "markdown",
   "metadata": {},
   "source": [
    "I have selected the no show appointments data for my analysis"
   ]
  },
  {
   "cell_type": "markdown",
   "metadata": {},
   "source": [
    "Using data analysis, we will attempt to answer the following questions:\n",
    "•\tWhich days are patients most likely to book appointments? Does this have any impact on the likelihood of them attending their appointment?\n",
    "•\tHow far in advance are these patients booking their appointments?\n",
    "•\tAre men and women equally as likely to show up to their appointments?\n",
    "•\tDoes age play a role in determining whether a patient will no show?\n"
   ]
  },
  {
   "cell_type": "code",
   "execution_count": 1,
   "metadata": {
    "scrolled": true
   },
   "outputs": [
    {
     "data": {
      "text/html": [
       "<div>\n",
       "<style scoped>\n",
       "    .dataframe tbody tr th:only-of-type {\n",
       "        vertical-align: middle;\n",
       "    }\n",
       "\n",
       "    .dataframe tbody tr th {\n",
       "        vertical-align: top;\n",
       "    }\n",
       "\n",
       "    .dataframe thead th {\n",
       "        text-align: right;\n",
       "    }\n",
       "</style>\n",
       "<table border=\"1\" class=\"dataframe\">\n",
       "  <thead>\n",
       "    <tr style=\"text-align: right;\">\n",
       "      <th></th>\n",
       "      <th>PatientId</th>\n",
       "      <th>AppointmentID</th>\n",
       "      <th>Gender</th>\n",
       "      <th>ScheduledDay</th>\n",
       "      <th>AppointmentDay</th>\n",
       "      <th>Age</th>\n",
       "      <th>Neighbourhood</th>\n",
       "      <th>Scholarship</th>\n",
       "      <th>Hipertension</th>\n",
       "      <th>Diabetes</th>\n",
       "      <th>Alcoholism</th>\n",
       "      <th>Handcap</th>\n",
       "      <th>SMS_received</th>\n",
       "      <th>No-show</th>\n",
       "    </tr>\n",
       "  </thead>\n",
       "  <tbody>\n",
       "    <tr>\n",
       "      <th>0</th>\n",
       "      <td>2.987250e+13</td>\n",
       "      <td>5642903</td>\n",
       "      <td>F</td>\n",
       "      <td>2016-04-29T18:38:08Z</td>\n",
       "      <td>2016-04-29T00:00:00Z</td>\n",
       "      <td>62</td>\n",
       "      <td>JARDIM DA PENHA</td>\n",
       "      <td>0</td>\n",
       "      <td>1</td>\n",
       "      <td>0</td>\n",
       "      <td>0</td>\n",
       "      <td>0</td>\n",
       "      <td>0</td>\n",
       "      <td>No</td>\n",
       "    </tr>\n",
       "    <tr>\n",
       "      <th>1</th>\n",
       "      <td>5.589980e+14</td>\n",
       "      <td>5642503</td>\n",
       "      <td>M</td>\n",
       "      <td>2016-04-29T16:08:27Z</td>\n",
       "      <td>2016-04-29T00:00:00Z</td>\n",
       "      <td>56</td>\n",
       "      <td>JARDIM DA PENHA</td>\n",
       "      <td>0</td>\n",
       "      <td>0</td>\n",
       "      <td>0</td>\n",
       "      <td>0</td>\n",
       "      <td>0</td>\n",
       "      <td>0</td>\n",
       "      <td>No</td>\n",
       "    </tr>\n",
       "    <tr>\n",
       "      <th>2</th>\n",
       "      <td>4.262960e+12</td>\n",
       "      <td>5642549</td>\n",
       "      <td>F</td>\n",
       "      <td>2016-04-29T16:19:04Z</td>\n",
       "      <td>2016-04-29T00:00:00Z</td>\n",
       "      <td>62</td>\n",
       "      <td>MATA DA PRAIA</td>\n",
       "      <td>0</td>\n",
       "      <td>0</td>\n",
       "      <td>0</td>\n",
       "      <td>0</td>\n",
       "      <td>0</td>\n",
       "      <td>0</td>\n",
       "      <td>No</td>\n",
       "    </tr>\n",
       "    <tr>\n",
       "      <th>3</th>\n",
       "      <td>8.679510e+11</td>\n",
       "      <td>5642828</td>\n",
       "      <td>F</td>\n",
       "      <td>2016-04-29T17:29:31Z</td>\n",
       "      <td>2016-04-29T00:00:00Z</td>\n",
       "      <td>8</td>\n",
       "      <td>PONTAL DE CAMBURI</td>\n",
       "      <td>0</td>\n",
       "      <td>0</td>\n",
       "      <td>0</td>\n",
       "      <td>0</td>\n",
       "      <td>0</td>\n",
       "      <td>0</td>\n",
       "      <td>No</td>\n",
       "    </tr>\n",
       "    <tr>\n",
       "      <th>4</th>\n",
       "      <td>8.841190e+12</td>\n",
       "      <td>5642494</td>\n",
       "      <td>F</td>\n",
       "      <td>2016-04-29T16:07:23Z</td>\n",
       "      <td>2016-04-29T00:00:00Z</td>\n",
       "      <td>56</td>\n",
       "      <td>JARDIM DA PENHA</td>\n",
       "      <td>0</td>\n",
       "      <td>1</td>\n",
       "      <td>1</td>\n",
       "      <td>0</td>\n",
       "      <td>0</td>\n",
       "      <td>0</td>\n",
       "      <td>No</td>\n",
       "    </tr>\n",
       "  </tbody>\n",
       "</table>\n",
       "</div>"
      ],
      "text/plain": [
       "      PatientId  AppointmentID Gender          ScheduledDay  \\\n",
       "0  2.987250e+13        5642903      F  2016-04-29T18:38:08Z   \n",
       "1  5.589980e+14        5642503      M  2016-04-29T16:08:27Z   \n",
       "2  4.262960e+12        5642549      F  2016-04-29T16:19:04Z   \n",
       "3  8.679510e+11        5642828      F  2016-04-29T17:29:31Z   \n",
       "4  8.841190e+12        5642494      F  2016-04-29T16:07:23Z   \n",
       "\n",
       "         AppointmentDay  Age      Neighbourhood  Scholarship  Hipertension  \\\n",
       "0  2016-04-29T00:00:00Z   62    JARDIM DA PENHA            0             1   \n",
       "1  2016-04-29T00:00:00Z   56    JARDIM DA PENHA            0             0   \n",
       "2  2016-04-29T00:00:00Z   62      MATA DA PRAIA            0             0   \n",
       "3  2016-04-29T00:00:00Z    8  PONTAL DE CAMBURI            0             0   \n",
       "4  2016-04-29T00:00:00Z   56    JARDIM DA PENHA            0             1   \n",
       "\n",
       "   Diabetes  Alcoholism  Handcap  SMS_received No-show  \n",
       "0         0           0        0             0      No  \n",
       "1         0           0        0             0      No  \n",
       "2         0           0        0             0      No  \n",
       "3         0           0        0             0      No  \n",
       "4         1           0        0             0      No  "
      ]
     },
     "execution_count": 1,
     "metadata": {},
     "output_type": "execute_result"
    }
   ],
   "source": [
    "#We begin by importing all of the libraries that we will be needing as well as well as reading our data file\n",
    "import pandas as pd\n",
    "from pandas import DataFrame\n",
    "import numpy as np\n",
    "import matplotlib.pyplot as plt\n",
    "from matplotlib import pylab\n",
    "%matplotlib inline\n",
    "import seaborn as sns\n",
    "from __future__ import division\n",
    "\n",
    "filename = 'Downloads/noshowappointments.csv'\n",
    "appt = pd.read_csv(filename)\n",
    "\n",
    "appt.head()"
   ]
  },
  {
   "cell_type": "code",
   "execution_count": 2,
   "metadata": {},
   "outputs": [
    {
     "name": "stdout",
     "output_type": "stream",
     "text": [
      "Index([u'PatientId', u'AppointmentID', u'Gender', u'ScheduledDay',\n",
      "       u'AppointmentDay', u'Age', u'Neighbourhood', u'Scholarship',\n",
      "       u'Hypertension', u'Diabetes', u'Alcoholism', u'Handicapped',\n",
      "       u'SMS_received', u'No-show'],\n",
      "      dtype='object')\n"
     ]
    }
   ],
   "source": [
    "#After examining the columns i noticed that some of the headers had typos so I am correcting them\n",
    "appt.rename(columns = {'Hipertension': 'Hypertension',                         \n",
    "                         'Handcap': 'Handicapped'}, inplace = True)\n",
    "print(appt.columns)"
   ]
  },
  {
   "cell_type": "code",
   "execution_count": 3,
   "metadata": {},
   "outputs": [
    {
     "name": "stdout",
     "output_type": "stream",
     "text": [
      "0   2016-04-29 18:38:08\n",
      "1   2016-04-29 16:08:27\n",
      "2   2016-04-29 16:19:04\n",
      "3   2016-04-29 17:29:31\n",
      "4   2016-04-29 16:07:23\n",
      "Name: ScheduledDay, dtype: datetime64[ns]\n",
      "0   2016-04-29\n",
      "1   2016-04-29\n",
      "2   2016-04-29\n",
      "3   2016-04-29\n",
      "4   2016-04-29\n",
      "Name: AppointmentDay, dtype: datetime64[ns]\n"
     ]
    }
   ],
   "source": [
    "#Here I am converting the date to Numpy's datetime 64 format\n",
    "appt.ScheduledDay = appt.ScheduledDay.apply(np.datetime64)\n",
    "appt.AppointmentDay = appt.AppointmentDay.apply(np.datetime64)\n",
    "\n",
    "print appt['ScheduledDay'].head()\n",
    "print appt['AppointmentDay'].head()"
   ]
  },
  {
   "cell_type": "code",
   "execution_count": 4,
   "metadata": {
    "scrolled": false
   },
   "outputs": [
    {
     "data": {
      "text/html": [
       "<div>\n",
       "<style scoped>\n",
       "    .dataframe tbody tr th:only-of-type {\n",
       "        vertical-align: middle;\n",
       "    }\n",
       "\n",
       "    .dataframe tbody tr th {\n",
       "        vertical-align: top;\n",
       "    }\n",
       "\n",
       "    .dataframe thead th {\n",
       "        text-align: right;\n",
       "    }\n",
       "</style>\n",
       "<table border=\"1\" class=\"dataframe\">\n",
       "  <thead>\n",
       "    <tr style=\"text-align: right;\">\n",
       "      <th></th>\n",
       "      <th>PatientId</th>\n",
       "      <th>AppointmentID</th>\n",
       "      <th>Gender</th>\n",
       "      <th>ScheduledDay</th>\n",
       "      <th>AppointmentDay</th>\n",
       "      <th>Age</th>\n",
       "      <th>Neighbourhood</th>\n",
       "      <th>Scholarship</th>\n",
       "      <th>Hypertension</th>\n",
       "      <th>Diabetes</th>\n",
       "      <th>Alcoholism</th>\n",
       "      <th>Handicapped</th>\n",
       "      <th>SMS_received</th>\n",
       "      <th>No-show</th>\n",
       "      <th>DaysUntilAppointment</th>\n",
       "    </tr>\n",
       "  </thead>\n",
       "  <tbody>\n",
       "    <tr>\n",
       "      <th>0</th>\n",
       "      <td>2.987250e+13</td>\n",
       "      <td>5642903</td>\n",
       "      <td>F</td>\n",
       "      <td>2016-04-29 18:38:08</td>\n",
       "      <td>2016-04-29</td>\n",
       "      <td>62</td>\n",
       "      <td>JARDIM DA PENHA</td>\n",
       "      <td>0</td>\n",
       "      <td>1</td>\n",
       "      <td>0</td>\n",
       "      <td>0</td>\n",
       "      <td>0</td>\n",
       "      <td>0</td>\n",
       "      <td>No</td>\n",
       "      <td>-1</td>\n",
       "    </tr>\n",
       "    <tr>\n",
       "      <th>1</th>\n",
       "      <td>5.589980e+14</td>\n",
       "      <td>5642503</td>\n",
       "      <td>M</td>\n",
       "      <td>2016-04-29 16:08:27</td>\n",
       "      <td>2016-04-29</td>\n",
       "      <td>56</td>\n",
       "      <td>JARDIM DA PENHA</td>\n",
       "      <td>0</td>\n",
       "      <td>0</td>\n",
       "      <td>0</td>\n",
       "      <td>0</td>\n",
       "      <td>0</td>\n",
       "      <td>0</td>\n",
       "      <td>No</td>\n",
       "      <td>-1</td>\n",
       "    </tr>\n",
       "    <tr>\n",
       "      <th>2</th>\n",
       "      <td>4.262960e+12</td>\n",
       "      <td>5642549</td>\n",
       "      <td>F</td>\n",
       "      <td>2016-04-29 16:19:04</td>\n",
       "      <td>2016-04-29</td>\n",
       "      <td>62</td>\n",
       "      <td>MATA DA PRAIA</td>\n",
       "      <td>0</td>\n",
       "      <td>0</td>\n",
       "      <td>0</td>\n",
       "      <td>0</td>\n",
       "      <td>0</td>\n",
       "      <td>0</td>\n",
       "      <td>No</td>\n",
       "      <td>-1</td>\n",
       "    </tr>\n",
       "    <tr>\n",
       "      <th>3</th>\n",
       "      <td>8.679510e+11</td>\n",
       "      <td>5642828</td>\n",
       "      <td>F</td>\n",
       "      <td>2016-04-29 17:29:31</td>\n",
       "      <td>2016-04-29</td>\n",
       "      <td>8</td>\n",
       "      <td>PONTAL DE CAMBURI</td>\n",
       "      <td>0</td>\n",
       "      <td>0</td>\n",
       "      <td>0</td>\n",
       "      <td>0</td>\n",
       "      <td>0</td>\n",
       "      <td>0</td>\n",
       "      <td>No</td>\n",
       "      <td>-1</td>\n",
       "    </tr>\n",
       "    <tr>\n",
       "      <th>4</th>\n",
       "      <td>8.841190e+12</td>\n",
       "      <td>5642494</td>\n",
       "      <td>F</td>\n",
       "      <td>2016-04-29 16:07:23</td>\n",
       "      <td>2016-04-29</td>\n",
       "      <td>56</td>\n",
       "      <td>JARDIM DA PENHA</td>\n",
       "      <td>0</td>\n",
       "      <td>1</td>\n",
       "      <td>1</td>\n",
       "      <td>0</td>\n",
       "      <td>0</td>\n",
       "      <td>0</td>\n",
       "      <td>No</td>\n",
       "      <td>-1</td>\n",
       "    </tr>\n",
       "  </tbody>\n",
       "</table>\n",
       "</div>"
      ],
      "text/plain": [
       "      PatientId  AppointmentID Gender        ScheduledDay AppointmentDay  Age  \\\n",
       "0  2.987250e+13        5642903      F 2016-04-29 18:38:08     2016-04-29   62   \n",
       "1  5.589980e+14        5642503      M 2016-04-29 16:08:27     2016-04-29   56   \n",
       "2  4.262960e+12        5642549      F 2016-04-29 16:19:04     2016-04-29   62   \n",
       "3  8.679510e+11        5642828      F 2016-04-29 17:29:31     2016-04-29    8   \n",
       "4  8.841190e+12        5642494      F 2016-04-29 16:07:23     2016-04-29   56   \n",
       "\n",
       "       Neighbourhood  Scholarship  Hypertension  Diabetes  Alcoholism  \\\n",
       "0    JARDIM DA PENHA            0             1         0           0   \n",
       "1    JARDIM DA PENHA            0             0         0           0   \n",
       "2      MATA DA PRAIA            0             0         0           0   \n",
       "3  PONTAL DE CAMBURI            0             0         0           0   \n",
       "4    JARDIM DA PENHA            0             1         1           0   \n",
       "\n",
       "   Handicapped  SMS_received No-show  DaysUntilAppointment  \n",
       "0            0             0      No                    -1  \n",
       "1            0             0      No                    -1  \n",
       "2            0             0      No                    -1  \n",
       "3            0             0      No                    -1  \n",
       "4            0             0      No                    -1  "
      ]
     },
     "execution_count": 4,
     "metadata": {},
     "output_type": "execute_result"
    }
   ],
   "source": [
    "#Creating a new column to find out how many days until the appointment\n",
    "DaysUntilAppointment = appt.AppointmentDay - appt.ScheduledDay.dt.round('D')\n",
    "appt['DaysUntilAppointment'] = DaysUntilAppointment\n",
    "appt['DaysUntilAppointment'] = appt['DaysUntilAppointment'].dt.days\n",
    "appt.head()"
   ]
  },
  {
   "cell_type": "code",
   "execution_count": 5,
   "metadata": {},
   "outputs": [
    {
     "data": {
      "text/html": [
       "<div>\n",
       "<style scoped>\n",
       "    .dataframe tbody tr th:only-of-type {\n",
       "        vertical-align: middle;\n",
       "    }\n",
       "\n",
       "    .dataframe tbody tr th {\n",
       "        vertical-align: top;\n",
       "    }\n",
       "\n",
       "    .dataframe thead th {\n",
       "        text-align: right;\n",
       "    }\n",
       "</style>\n",
       "<table border=\"1\" class=\"dataframe\">\n",
       "  <thead>\n",
       "    <tr style=\"text-align: right;\">\n",
       "      <th></th>\n",
       "      <th>PatientId</th>\n",
       "      <th>AppointmentID</th>\n",
       "      <th>Gender</th>\n",
       "      <th>ScheduledDay</th>\n",
       "      <th>AppointmentDay</th>\n",
       "      <th>Age</th>\n",
       "      <th>Neighbourhood</th>\n",
       "      <th>Scholarship</th>\n",
       "      <th>Hypertension</th>\n",
       "      <th>Diabetes</th>\n",
       "      <th>Alcoholism</th>\n",
       "      <th>Handicapped</th>\n",
       "      <th>SMS_received</th>\n",
       "      <th>No-show</th>\n",
       "      <th>DaysUntilAppointment</th>\n",
       "      <th>DayOfTheWeek</th>\n",
       "    </tr>\n",
       "  </thead>\n",
       "  <tbody>\n",
       "    <tr>\n",
       "      <th>0</th>\n",
       "      <td>2.987250e+13</td>\n",
       "      <td>5642903</td>\n",
       "      <td>F</td>\n",
       "      <td>2016-04-29 18:38:08</td>\n",
       "      <td>2016-04-29</td>\n",
       "      <td>62</td>\n",
       "      <td>JARDIM DA PENHA</td>\n",
       "      <td>0</td>\n",
       "      <td>1</td>\n",
       "      <td>0</td>\n",
       "      <td>0</td>\n",
       "      <td>0</td>\n",
       "      <td>0</td>\n",
       "      <td>No</td>\n",
       "      <td>-1</td>\n",
       "      <td>Friday</td>\n",
       "    </tr>\n",
       "    <tr>\n",
       "      <th>1</th>\n",
       "      <td>5.589980e+14</td>\n",
       "      <td>5642503</td>\n",
       "      <td>M</td>\n",
       "      <td>2016-04-29 16:08:27</td>\n",
       "      <td>2016-04-29</td>\n",
       "      <td>56</td>\n",
       "      <td>JARDIM DA PENHA</td>\n",
       "      <td>0</td>\n",
       "      <td>0</td>\n",
       "      <td>0</td>\n",
       "      <td>0</td>\n",
       "      <td>0</td>\n",
       "      <td>0</td>\n",
       "      <td>No</td>\n",
       "      <td>-1</td>\n",
       "      <td>Friday</td>\n",
       "    </tr>\n",
       "    <tr>\n",
       "      <th>2</th>\n",
       "      <td>4.262960e+12</td>\n",
       "      <td>5642549</td>\n",
       "      <td>F</td>\n",
       "      <td>2016-04-29 16:19:04</td>\n",
       "      <td>2016-04-29</td>\n",
       "      <td>62</td>\n",
       "      <td>MATA DA PRAIA</td>\n",
       "      <td>0</td>\n",
       "      <td>0</td>\n",
       "      <td>0</td>\n",
       "      <td>0</td>\n",
       "      <td>0</td>\n",
       "      <td>0</td>\n",
       "      <td>No</td>\n",
       "      <td>-1</td>\n",
       "      <td>Friday</td>\n",
       "    </tr>\n",
       "    <tr>\n",
       "      <th>3</th>\n",
       "      <td>8.679510e+11</td>\n",
       "      <td>5642828</td>\n",
       "      <td>F</td>\n",
       "      <td>2016-04-29 17:29:31</td>\n",
       "      <td>2016-04-29</td>\n",
       "      <td>8</td>\n",
       "      <td>PONTAL DE CAMBURI</td>\n",
       "      <td>0</td>\n",
       "      <td>0</td>\n",
       "      <td>0</td>\n",
       "      <td>0</td>\n",
       "      <td>0</td>\n",
       "      <td>0</td>\n",
       "      <td>No</td>\n",
       "      <td>-1</td>\n",
       "      <td>Friday</td>\n",
       "    </tr>\n",
       "    <tr>\n",
       "      <th>4</th>\n",
       "      <td>8.841190e+12</td>\n",
       "      <td>5642494</td>\n",
       "      <td>F</td>\n",
       "      <td>2016-04-29 16:07:23</td>\n",
       "      <td>2016-04-29</td>\n",
       "      <td>56</td>\n",
       "      <td>JARDIM DA PENHA</td>\n",
       "      <td>0</td>\n",
       "      <td>1</td>\n",
       "      <td>1</td>\n",
       "      <td>0</td>\n",
       "      <td>0</td>\n",
       "      <td>0</td>\n",
       "      <td>No</td>\n",
       "      <td>-1</td>\n",
       "      <td>Friday</td>\n",
       "    </tr>\n",
       "  </tbody>\n",
       "</table>\n",
       "</div>"
      ],
      "text/plain": [
       "      PatientId  AppointmentID Gender        ScheduledDay AppointmentDay  Age  \\\n",
       "0  2.987250e+13        5642903      F 2016-04-29 18:38:08     2016-04-29   62   \n",
       "1  5.589980e+14        5642503      M 2016-04-29 16:08:27     2016-04-29   56   \n",
       "2  4.262960e+12        5642549      F 2016-04-29 16:19:04     2016-04-29   62   \n",
       "3  8.679510e+11        5642828      F 2016-04-29 17:29:31     2016-04-29    8   \n",
       "4  8.841190e+12        5642494      F 2016-04-29 16:07:23     2016-04-29   56   \n",
       "\n",
       "       Neighbourhood  Scholarship  Hypertension  Diabetes  Alcoholism  \\\n",
       "0    JARDIM DA PENHA            0             1         0           0   \n",
       "1    JARDIM DA PENHA            0             0         0           0   \n",
       "2      MATA DA PRAIA            0             0         0           0   \n",
       "3  PONTAL DE CAMBURI            0             0         0           0   \n",
       "4    JARDIM DA PENHA            0             1         1           0   \n",
       "\n",
       "   Handicapped  SMS_received No-show  DaysUntilAppointment DayOfTheWeek  \n",
       "0            0             0      No                    -1       Friday  \n",
       "1            0             0      No                    -1       Friday  \n",
       "2            0             0      No                    -1       Friday  \n",
       "3            0             0      No                    -1       Friday  \n",
       "4            0             0      No                    -1       Friday  "
      ]
     },
     "execution_count": 5,
     "metadata": {},
     "output_type": "execute_result"
    }
   ],
   "source": [
    "#Creating a new column to find out what day of the week the appointments are\n",
    "appt['DayOfTheWeek'] = appt['AppointmentDay'].dt.day_name()\n",
    "appt.head()"
   ]
  },
  {
   "cell_type": "code",
   "execution_count": 6,
   "metadata": {},
   "outputs": [],
   "source": [
    "#Sorting the days of the week so they appear in order\n",
    "appt['DayOfTheWeek'] = pd.Categorical(appt['DayOfTheWeek'], categories=['Monday','Tuesday','Wednesday','Thursday','Friday','Saturday'], ordered=True)"
   ]
  },
  {
   "cell_type": "markdown",
   "metadata": {},
   "source": [
    "As part of the data wrangling process I will be printing out unique values to help identify anything that may seem out of ordinary."
   ]
  },
  {
   "cell_type": "code",
   "execution_count": 7,
   "metadata": {},
   "outputs": [
    {
     "name": "stdout",
     "output_type": "stream",
     "text": [
      "Age:  [-1, 0, 1, 2, 3, 4, 5, 6, 7, 8, 9, 10, 11, 12, 13, 14, 15, 16, 17, 18, 19, 20, 21, 22, 23, 24, 25, 26, 27, 28, 29, 30, 31, 32, 33, 34, 35, 36, 37, 38, 39, 40, 41, 42, 43, 44, 45, 46, 47, 48, 49, 50, 51, 52, 53, 54, 55, 56, 57, 58, 59, 60, 61, 62, 63, 64, 65, 66, 67, 68, 69, 70, 71, 72, 73, 74, 75, 76, 77, 78, 79, 80, 81, 82, 83, 84, 85, 86, 87, 88, 89, 90, 91, 92, 93, 94, 95, 96, 97, 98, 99, 100, 102, 115]\n",
      "Scholarship:  [0 1]\n",
      "Hypertension:  [1 0]\n",
      "Diabetes:  [0 1]\n",
      "Alcoholism:  [0 1]\n",
      "Handicapped:  [0 1 2 3 4]\n",
      "SMS_received:  [0 1]\n",
      "DaysUntilAppointment:  [-7, -2, -1, 0, 1, 2, 3, 4, 5, 6, 7, 8, 9, 10, 11, 12, 13, 14, 15, 16, 17, 18, 19, 20, 21, 22, 23, 24, 25, 26, 27, 28, 29, 30, 31, 32, 33, 34, 35, 36, 37, 38, 39, 40, 41, 42, 43, 44, 45, 46, 47, 48, 49, 50, 51, 52, 53, 54, 55, 56, 57, 58, 59, 60, 61, 62, 63, 64, 65, 66, 67, 68, 69, 70, 71, 72, 73, 74, 75, 76, 77, 78, 79, 80, 81, 82, 83, 84, 85, 86, 87, 88, 89, 90, 91, 92, 93, 95, 96, 97, 98, 100, 101, 102, 103, 104, 105, 106, 107, 108, 109, 110, 111, 112, 114, 115, 116, 118, 119, 121, 122, 123, 125, 126, 127, 132, 133, 138, 142, 145, 151, 154, 161, 168, 175, 176, 179]\n",
      "DayOfTheWeek:  [Friday, Tuesday, Monday, Wednesday, Thursday, Saturday]\n",
      "Categories (6, object): [Monday < Tuesday < Wednesday < Thursday < Friday < Saturday]\n",
      "No-show:  ['No' 'Yes']\n"
     ]
    }
   ],
   "source": [
    "#We will now scan for any values that seem out of the ordinary\n",
    "print 'Age: ',sorted(appt.Age.unique())\n",
    "print 'Scholarship: ',appt.Scholarship.unique()\n",
    "print 'Hypertension: ' ,appt.Hypertension.unique()\n",
    "print 'Diabetes: ',appt.Diabetes.unique()\n",
    "print 'Alcoholism: ',appt.Alcoholism.unique()\n",
    "print 'Handicapped: ',appt.Handicapped.unique()\n",
    "print 'SMS_received: ',appt.SMS_received.unique()\n",
    "print 'DaysUntilAppointment: ', sorted(appt.DaysUntilAppointment.unique())\n",
    "print 'DayOfTheWeek: ',appt.DayOfTheWeek.unique()\n",
    "print 'No-show: ',appt['No-show'].unique()"
   ]
  },
  {
   "cell_type": "markdown",
   "metadata": {},
   "source": [
    "There are a few things that stick out to me as glaringly obvious we have a negative value in the age section, we also have ages over 100. For the purpose of this analysis we will stick to ages between 0 and 100. In the DaysUntilAppointment field that I have created there are some negative values so i am also going to be excluding those."
   ]
  },
  {
   "cell_type": "code",
   "execution_count": 8,
   "metadata": {},
   "outputs": [
    {
     "name": "stdout",
     "output_type": "stream",
     "text": [
      "Age:  [0, 1, 2, 3, 4, 5, 6, 7, 8, 9, 10, 11, 12, 13, 14, 15, 16, 17, 18, 19, 20, 21, 22, 23, 24, 25, 26, 27, 28, 29, 30, 31, 32, 33, 34, 35, 36, 37, 38, 39, 40, 41, 42, 43, 44, 45, 46, 47, 48, 49, 50, 51, 52, 53, 54, 55, 56, 57, 58, 59, 60, 61, 62, 63, 64, 65, 66, 67, 68, 69, 70, 71, 72, 73, 74, 75, 76, 77, 78, 79, 80, 81, 82, 83, 84, 85, 86, 87, 88, 89, 90, 91, 92, 93, 94, 95, 96, 97, 98, 99, 100]\n"
     ]
    }
   ],
   "source": [
    "#We will eliminate any ages that are less than 0 and greater than 100 and check to make sure we did this correctly\n",
    "appt = appt[(appt.Age >= 0) & (appt.Age <= 100)]\n",
    "print 'Age: ',sorted(appt.Age.unique())"
   ]
  },
  {
   "cell_type": "code",
   "execution_count": 9,
   "metadata": {},
   "outputs": [
    {
     "name": "stdout",
     "output_type": "stream",
     "text": [
      "DaysUntilAppointment:  [0, 1, 2, 3, 4, 5, 6, 7, 8, 9, 10, 11, 12, 13, 14, 15, 16, 17, 18, 19, 20, 21, 22, 23, 24, 25, 26, 27, 28, 29, 30, 31, 32, 33, 34, 35, 36, 37, 38, 39, 40, 41, 42, 43, 44, 45, 46, 47, 48, 49, 50, 51, 52, 53, 54, 55, 56, 57, 58, 59, 60, 61, 62, 63, 64, 65, 66, 67, 68, 69, 70, 71, 72, 73, 74, 75, 76, 77, 78, 79, 80, 81, 82, 83, 84, 85, 86, 87, 88, 89, 90, 91, 92, 93, 95, 96, 97, 98, 100, 101, 102, 103, 104, 105, 106, 107, 108, 109, 110, 111, 112, 114, 115, 116, 118, 119, 121, 122, 123, 125, 126, 127, 132, 133, 138, 142, 145, 151, 154, 161, 168, 175, 176, 179]\n"
     ]
    }
   ],
   "source": [
    "#We will eliminate any rows that have negative values in the DaysToAppointment column and check our work\n",
    "appt = appt[(appt.DaysUntilAppointment >= 0)]\n",
    "print 'DaysUntilAppointment: ', sorted(appt.DaysUntilAppointment.unique())"
   ]
  },
  {
   "cell_type": "markdown",
   "metadata": {},
   "source": [
    "Now that I have cleaned the data I will be moving on to the analysis phase. The first question I will be looking to answer is:\n",
    "How far in advance are these patients booking their appointments?"
   ]
  },
  {
   "cell_type": "code",
   "execution_count": 10,
   "metadata": {},
   "outputs": [
    {
     "data": {
      "image/png": "[encoded data removed]",
      "text/plain": [
       "<Figure size 1296x576 with 1 Axes>"
      ]
     },
     "metadata": {
      "needs_background": "light"
     },
     "output_type": "display_data"
    }
   ],
   "source": [
    "#Create a chart to determine how far in advance they are booking their appointments\n",
    "plt.figure(figsize=(18,8))\n",
    "sns.countplot(x=appt.DaysUntilAppointment, order=appt.DaysUntilAppointment.value_counts().iloc[:30].index)\n",
    "plt.title(\"Days until Appointment (Descending Order) \")\n",
    "plt.show()"
   ]
  },
  {
   "cell_type": "markdown",
   "metadata": {},
   "source": [
    "For readability I have only selected the first 30 values on the X axis. This chart demonstrates that overwhelmingly this patients are booking their appointments same day. One should also note that the 8 highest values all happen to be one week and less. This demonstrates that the majority of patients are scheduling their appointments in the very near future. The limitations of the data are such that we don't have any further information as to why that may be.  "
   ]
  },
  {
   "cell_type": "markdown",
   "metadata": {},
   "source": [
    "At this point it is important to establish a baseline to understand the likelihood that a patient will attend their appointment across all groups so that we can identify if there are any patterns across different segments of patients. "
   ]
  },
  {
   "cell_type": "code",
   "execution_count": 11,
   "metadata": {},
   "outputs": [],
   "source": [
    "#I will now write a function that will allow us to calculate the baseline \n",
    "#from future import division\n",
    "def get_baseline(data):    \n",
    "    num_of_no = (data['No-show']=='No').sum()    \n",
    "    num_of_yes = (data['No-show']=='Yes').sum()  \n",
    "    baseline = num_of_no / (num_of_no + num_of_yes)   \n",
    "    print \"There is a \" + \"{:.2%}\".format(baseline) + \" likelihood that the patient will attend their appointment\"\n",
    "    return baseline"
   ]
  },
  {
   "cell_type": "code",
   "execution_count": 12,
   "metadata": {},
   "outputs": [
    {
     "name": "stdout",
     "output_type": "stream",
     "text": [
      "There is a 77.92% likelihood that the patient will attend their appointment\n"
     ]
    },
    {
     "data": {
      "text/plain": [
       "0.7792045385225401"
      ]
     },
     "execution_count": 12,
     "metadata": {},
     "output_type": "execute_result"
    },
    {
     "data": {
      "image/png": "[encoded data removed]",
      "text/plain": [
       "<Figure size 432x288 with 1 Axes>"
      ]
     },
     "metadata": {
      "needs_background": "light"
     },
     "output_type": "display_data"
    }
   ],
   "source": [
    "#Creating this plot allows us to visualize the distribution of No-shows/attended\n",
    "#Please note that in this Data a no indicates the patient attended and yes means they did not attend\n",
    "def plot_dist(data):\n",
    "    data['No-show'].value_counts().plot(kind='barh')\n",
    "    plt.title('Likelihood of Attendance')    \n",
    "plot_dist(appt)\n",
    "get_baseline(appt)"
   ]
  },
  {
   "cell_type": "markdown",
   "metadata": {},
   "source": [
    "When we look at our data on an aggregate basis it appears as though 77.92% of the time our patient will attend their scheduled appointments."
   ]
  },
  {
   "cell_type": "markdown",
   "metadata": {},
   "source": [
    "Next we will be examining the distribution of days that patients booked their appointments"
   ]
  },
  {
   "cell_type": "code",
   "execution_count": 13,
   "metadata": {
    "scrolled": false
   },
   "outputs": [
    {
     "data": {
      "text/plain": [
       "Text(0.5,1,'Appointments by Days of the Week - Bar')"
      ]
     },
     "execution_count": 13,
     "metadata": {},
     "output_type": "execute_result"
    },
    {
     "data": {
      "image/png": "[encoded data removed]",
      "text/plain": [
       "<Figure size 432x288 with 1 Axes>"
      ]
     },
     "metadata": {
      "needs_background": "light"
     },
     "output_type": "display_data"
    }
   ],
   "source": [
    "#We will now create a chart to observe the distribution of days that patients book\n",
    "sns.countplot(x=\"DayOfTheWeek\", data=appt, palette=\"Set2\")\n",
    "plt.title('Appointments by Days of the Week - Bar')"
   ]
  },
  {
   "cell_type": "code",
   "execution_count": 14,
   "metadata": {},
   "outputs": [
    {
     "data": {
      "text/plain": [
       "<matplotlib.axes._subplots.AxesSubplot at 0x1ef72630>"
      ]
     },
     "execution_count": 14,
     "metadata": {},
     "output_type": "execute_result"
    },
    {
     "data": {
      "image/png": "[encoded data removed]",
      "text/plain": [
       "<Figure size 504x504 with 1 Axes>"
      ]
     },
     "metadata": {},
     "output_type": "display_data"
    }
   ],
   "source": [
    "appt.DayOfTheWeek.value_counts().plot.pie(figsize=(7,7), title='Appointments by Days of the Week - Pie', autopct='%1.1f%%')"
   ]
  },
  {
   "cell_type": "markdown",
   "metadata": {},
   "source": [
    "I have expressed the distribution of appointments by day both as a pie chart and a bar chart to offer up a different view."
   ]
  },
  {
   "cell_type": "code",
   "execution_count": 15,
   "metadata": {},
   "outputs": [],
   "source": [
    "#We will create a new dataframe to sort data by Days of the week\n",
    "d = appt.groupby(['DayOfTheWeek', 'No-show']).size().unstack().reset_index()\n",
    "d['Total'] = d['No'] + d['Yes'] \n",
    "d['No_Show']= d['Yes'] / d['Total']"
   ]
  },
  {
   "cell_type": "code",
   "execution_count": 16,
   "metadata": {},
   "outputs": [
    {
     "data": {
      "text/html": [
       "<div>\n",
       "<style scoped>\n",
       "    .dataframe tbody tr th:only-of-type {\n",
       "        vertical-align: middle;\n",
       "    }\n",
       "\n",
       "    .dataframe tbody tr th {\n",
       "        vertical-align: top;\n",
       "    }\n",
       "\n",
       "    .dataframe thead th {\n",
       "        text-align: right;\n",
       "    }\n",
       "</style>\n",
       "<table border=\"1\" class=\"dataframe\">\n",
       "  <thead>\n",
       "    <tr style=\"text-align: right;\">\n",
       "      <th>No-show</th>\n",
       "      <th>DayOfTheWeek</th>\n",
       "      <th>No</th>\n",
       "      <th>Yes</th>\n",
       "      <th>Total</th>\n",
       "      <th>No_Show</th>\n",
       "    </tr>\n",
       "  </thead>\n",
       "  <tbody>\n",
       "    <tr>\n",
       "      <th>0</th>\n",
       "      <td>Monday</td>\n",
       "      <td>15544</td>\n",
       "      <td>4591</td>\n",
       "      <td>20135</td>\n",
       "      <td>0.228011</td>\n",
       "    </tr>\n",
       "    <tr>\n",
       "      <th>1</th>\n",
       "      <td>Tuesday</td>\n",
       "      <td>17599</td>\n",
       "      <td>5041</td>\n",
       "      <td>22640</td>\n",
       "      <td>0.222659</td>\n",
       "    </tr>\n",
       "    <tr>\n",
       "      <th>2</th>\n",
       "      <td>Wednesday</td>\n",
       "      <td>18165</td>\n",
       "      <td>4935</td>\n",
       "      <td>23100</td>\n",
       "      <td>0.213636</td>\n",
       "    </tr>\n",
       "    <tr>\n",
       "      <th>3</th>\n",
       "      <td>Thursday</td>\n",
       "      <td>12189</td>\n",
       "      <td>3231</td>\n",
       "      <td>15420</td>\n",
       "      <td>0.209533</td>\n",
       "    </tr>\n",
       "    <tr>\n",
       "      <th>4</th>\n",
       "      <td>Friday</td>\n",
       "      <td>13114</td>\n",
       "      <td>3910</td>\n",
       "      <td>17024</td>\n",
       "      <td>0.229676</td>\n",
       "    </tr>\n",
       "    <tr>\n",
       "      <th>5</th>\n",
       "      <td>Saturday</td>\n",
       "      <td>30</td>\n",
       "      <td>9</td>\n",
       "      <td>39</td>\n",
       "      <td>0.230769</td>\n",
       "    </tr>\n",
       "  </tbody>\n",
       "</table>\n",
       "</div>"
      ],
      "text/plain": [
       "No-show DayOfTheWeek     No   Yes  Total   No_Show\n",
       "0             Monday  15544  4591  20135  0.228011\n",
       "1            Tuesday  17599  5041  22640  0.222659\n",
       "2          Wednesday  18165  4935  23100  0.213636\n",
       "3           Thursday  12189  3231  15420  0.209533\n",
       "4             Friday  13114  3910  17024  0.229676\n",
       "5           Saturday     30     9     39  0.230769"
      ]
     },
     "execution_count": 16,
     "metadata": {},
     "output_type": "execute_result"
    },
    {
     "data": {
      "image/png": "[encoded data removed]",
      "text/plain": [
       "<Figure size 432x288 with 1 Axes>"
      ]
     },
     "metadata": {
      "needs_background": "light"
     },
     "output_type": "display_data"
    }
   ],
   "source": [
    "#We will now create a chart to observe the distribution of days that patients book\n",
    "sns.countplot(x=\"DayOfTheWeek\", data=appt, hue=\"No-show\", palette=\"Set1\")\n",
    "plt.title('Appointments by Days of the Week - Cluster')\n",
    "d"
   ]
  },
  {
   "cell_type": "markdown",
   "metadata": {},
   "source": [
    "There does not appear to be any significant differences in attendance likelihood regardless of the day. However, what is quite clear is that there are no appointments on Sunday, and very few on Saturdays. The appointments top out on Wednesday, then Thursday and Friday see lighter volumes than the rest of the week."
   ]
  },
  {
   "cell_type": "markdown",
   "metadata": {},
   "source": [
    "Now we will attempt to determine if there are any differences between genders. Is one gender more likely to attend an appointment than the other?"
   ]
  },
  {
   "cell_type": "code",
   "execution_count": 17,
   "metadata": {},
   "outputs": [],
   "source": [
    "#We will now split our data by gender\n",
    "Male_Data = appt.groupby('Gender').get_group('M')\n",
    "Female_Data = appt.groupby('Gender').get_group('F')"
   ]
  },
  {
   "cell_type": "code",
   "execution_count": 18,
   "metadata": {},
   "outputs": [
    {
     "name": "stdout",
     "output_type": "stream",
     "text": [
      "There is a 78.23% likelihood that the patient will attend their appointment\n",
      "There is a 77.76% likelihood that the patient will attend their appointment\n"
     ]
    },
    {
     "data": {
      "text/plain": [
       "Text(0.5,1,'Appointment attendance by gender')"
      ]
     },
     "execution_count": 18,
     "metadata": {},
     "output_type": "execute_result"
    },
    {
     "data": {
      "image/png": "[encoded data removed]",
      "text/plain": [
       "<Figure size 432x288 with 1 Axes>"
      ]
     },
     "metadata": {
      "needs_background": "light"
     },
     "output_type": "display_data"
    }
   ],
   "source": [
    "#We will now run our baseline function on the two data sets and plot our data\n",
    "get_baseline(Male_Data)\n",
    "get_baseline(Female_Data)\n",
    "\n",
    "sns.countplot(x=\"No-show\", hue=\"Gender\", data=appt, palette=\"Set1\")\n",
    "plt.title('Appointment attendance by gender')"
   ]
  },
  {
   "cell_type": "markdown",
   "metadata": {},
   "source": [
    "The data demonstrates to us that we have more female data than men. However, there is very little difference in attendance rates between men and women. My assumption is that gender is not much of a factor in determining whether a patient is likely to miss their appointment."
   ]
  },
  {
   "cell_type": "markdown",
   "metadata": {},
   "source": [
    "We will now try to determine whether there are patterns of attendance over different age groups. Does age play a role in determining whether a patient will no show?"
   ]
  },
  {
   "cell_type": "code",
   "execution_count": 19,
   "metadata": {},
   "outputs": [],
   "source": [
    "#We must first split our patients into different age categories before we can chart them\n",
    "def group_by_age(Age):\n",
    "    if Age >= 80:\n",
    "        return \"Old Age\"\n",
    "    elif Age >= 60:\n",
    "        return \"Senior\"\n",
    "    elif Age >= 40:\n",
    "        return \"Adult\"\n",
    "    elif Age >= 20:\n",
    "        return \"Young Adult\"\n",
    "    else:\n",
    "        return \"Youth\"\n",
    "    \n",
    "appt['AgeGroup'] = appt.Age.apply(group_by_age)"
   ]
  },
  {
   "cell_type": "code",
   "execution_count": 20,
   "metadata": {},
   "outputs": [],
   "source": [
    "#We will now split our data by age groups\n",
    "Senior_Data = appt.groupby('AgeGroup').get_group('Senior')\n",
    "Young_Adult_Data = appt.groupby('AgeGroup').get_group('Young Adult')\n",
    "Youth_Data = appt.groupby('AgeGroup').get_group('Youth')\n",
    "Adult_Data = appt.groupby('AgeGroup').get_group('Adult')\n",
    "Old_Age_Data = appt.groupby('AgeGroup').get_group('Old Age')"
   ]
  },
  {
   "cell_type": "code",
   "execution_count": 21,
   "metadata": {},
   "outputs": [],
   "source": [
    "#I'm creating functions to count the yes and no distribution to create stacked bar charts\n",
    "def get_yes(data):    \n",
    "    num_of_no1 = (data['No-show']=='No').sum()\n",
    "    num_of_yes1 = (data['No-show']=='Yes').sum()\n",
    "    dist_yes = (num_of_yes1 / (num_of_no1 + num_of_yes1)) * 100\n",
    "    return dist_yes\n",
    "\n",
    "def get_no(data):    \n",
    "    num_of_no1 = (data['No-show']=='No').sum()\n",
    "    num_of_yes1 = (data['No-show']=='Yes').sum()\n",
    "    dist_no = (num_of_no1 / (num_of_no1 + num_of_yes1)) * 100\n",
    "    return dist_no"
   ]
  },
  {
   "cell_type": "code",
   "execution_count": 22,
   "metadata": {},
   "outputs": [],
   "source": [
    "#We will create a new dataframe for a scatter plot\n",
    "sp = appt.groupby(['Age', 'No-show']).size().unstack().reset_index()\n",
    "sp['Total'] = sp['No'] + sp['Yes'] \n",
    "sp['WillShow'] = sp['No'] / sp['Total']"
   ]
  },
  {
   "cell_type": "code",
   "execution_count": 23,
   "metadata": {},
   "outputs": [
    {
     "data": {
      "image/png": "[encoded data removed]",
      "text/plain": [
       "<Figure size 360x360 with 1 Axes>"
      ]
     },
     "metadata": {
      "needs_background": "light"
     },
     "output_type": "display_data"
    }
   ],
   "source": [
    "#We will now chart a scatterplot\n",
    "sns.lmplot(data = sp, x = 'Age', y = 'WillShow')\n",
    "plt.title('Likelihood that a patient will attend by age')\n",
    "plt.xlim(0, 100)\n",
    "plt.show()"
   ]
  },
  {
   "cell_type": "code",
   "execution_count": 24,
   "metadata": {},
   "outputs": [],
   "source": [
    "#We will create a new dataframe to sort data by Age group\n",
    "g = appt.groupby(['AgeGroup', 'No-show']).size().unstack().reset_index()\n",
    "g['Total'] = g['No'] + g['Yes'] \n",
    "g['No_Show']= g['Yes'] / g['Total']"
   ]
  },
  {
   "cell_type": "code",
   "execution_count": 25,
   "metadata": {
    "scrolled": false
   },
   "outputs": [
    {
     "data": {
      "image/png": "[encoded data removed]",
      "text/plain": [
       "<Figure size 432x288 with 1 Axes>"
      ]
     },
     "metadata": {
      "needs_background": "light"
     },
     "output_type": "display_data"
    },
    {
     "data": {
      "text/html": [
       "<div>\n",
       "<style scoped>\n",
       "    .dataframe tbody tr th:only-of-type {\n",
       "        vertical-align: middle;\n",
       "    }\n",
       "\n",
       "    .dataframe tbody tr th {\n",
       "        vertical-align: top;\n",
       "    }\n",
       "\n",
       "    .dataframe thead th {\n",
       "        text-align: right;\n",
       "    }\n",
       "</style>\n",
       "<table border=\"1\" class=\"dataframe\">\n",
       "  <thead>\n",
       "    <tr style=\"text-align: right;\">\n",
       "      <th>No-show</th>\n",
       "      <th>AgeGroup</th>\n",
       "      <th>No</th>\n",
       "      <th>Yes</th>\n",
       "      <th>Total</th>\n",
       "      <th>No_Show</th>\n",
       "    </tr>\n",
       "  </thead>\n",
       "  <tbody>\n",
       "    <tr>\n",
       "      <th>0</th>\n",
       "      <td>Adult</td>\n",
       "      <td>21329</td>\n",
       "      <td>5546</td>\n",
       "      <td>26875</td>\n",
       "      <td>0.206363</td>\n",
       "    </tr>\n",
       "    <tr>\n",
       "      <th>1</th>\n",
       "      <td>Old Age</td>\n",
       "      <td>2455</td>\n",
       "      <td>540</td>\n",
       "      <td>2995</td>\n",
       "      <td>0.180301</td>\n",
       "    </tr>\n",
       "    <tr>\n",
       "      <th>2</th>\n",
       "      <td>Senior</td>\n",
       "      <td>13541</td>\n",
       "      <td>2637</td>\n",
       "      <td>16178</td>\n",
       "      <td>0.162999</td>\n",
       "    </tr>\n",
       "    <tr>\n",
       "      <th>3</th>\n",
       "      <td>Young Adult</td>\n",
       "      <td>18878</td>\n",
       "      <td>6563</td>\n",
       "      <td>25441</td>\n",
       "      <td>0.257969</td>\n",
       "    </tr>\n",
       "    <tr>\n",
       "      <th>4</th>\n",
       "      <td>Youth</td>\n",
       "      <td>20438</td>\n",
       "      <td>6431</td>\n",
       "      <td>26869</td>\n",
       "      <td>0.239346</td>\n",
       "    </tr>\n",
       "  </tbody>\n",
       "</table>\n",
       "</div>"
      ],
      "text/plain": [
       "No-show     AgeGroup     No   Yes  Total   No_Show\n",
       "0              Adult  21329  5546  26875  0.206363\n",
       "1            Old Age   2455   540   2995  0.180301\n",
       "2             Senior  13541  2637  16178  0.162999\n",
       "3        Young Adult  18878  6563  25441  0.257969\n",
       "4              Youth  20438  6431  26869  0.239346"
      ]
     },
     "execution_count": 25,
     "metadata": {},
     "output_type": "execute_result"
    }
   ],
   "source": [
    "#I will now create my chart\n",
    "r = [0,1,2,3,4]\n",
    "groups = [Youth_Data, Young_Adult_Data, Adult_Data, Senior_Data, Old_Age_Data]\n",
    "nos = []\n",
    "for i in groups:\n",
    "    nos.append(get_no(i))\n",
    "yes = []\n",
    "for i in groups:\n",
    "    yes.append(get_yes(i))\n",
    "\n",
    "#indicating the details of our chart, bar width, location of data, labels\n",
    "barWidth = 0.85\n",
    "names = ('Youth','Young Adult','Adult','Senior','Old Age')\n",
    "plt.bar(r, nos, color='r', edgecolor='white', width=barWidth, label=\"Attended\")\n",
    "plt.bar(r, yes, bottom=nos, color='#a3acff', edgecolor='white', width=barWidth, label=\"Did not attend\")\n",
    "\n",
    "#Here we are creating the informative pieces for our data, legend, title, labels for x/y axis\n",
    "plt.xticks(r, names)\n",
    "plt.xlabel(\"Age groups\")\n",
    "plt.ylabel(\"Percentage of attendance\")\n",
    "plt.legend(loc='upper left', bbox_to_anchor=(1,1), ncol=1)\n",
    "plt.title('Appointments attendance by age group - Stacked')\n",
    "\n",
    "plt.show()\n",
    "g"
   ]
  },
  {
   "cell_type": "markdown",
   "metadata": {},
   "source": [
    "When examining the results, it appears as though as patients age the likelihood of them missing appointments decreases. Age seems to be the most relevant factor in determining causation for missed appointments. My assumption is that as you age the reasons you go to the doctor tend to be more serious than when you are younger. The old age category seems to oppose that theory however the amount of old age records are significantly lower than all other categories."
   ]
  },
  {
   "cell_type": "markdown",
   "metadata": {},
   "source": [
    "### Conclusions"
   ]
  },
  {
   "cell_type": "markdown",
   "metadata": {},
   "source": [
    "After examining the appointment data for over 100,000 Brazilian medical records there are certain reasonable conclusions that can be drawn based on the data that we were given:\n",
    "•\tMy first observation is that patients book the majority of their appointments within less than 7 days. \n",
    "•\tAn overwhelming amount of appointments are booked same day. \n",
    "•\tThey also prefer their appointments to be early in the week, Monday through Wednesday account for over 60% of appointments. •\tThere are no appointments on Sundays and almost none on Saturdays\n",
    "•\tDays of the week does not correlate with an increased risk of No-Showing\n",
    "•\tAge was the best predictor of whether or not a patient was likely to show up\n",
    "\n",
    "Athough age was a good predictor this data set doesn't paint the full picture. It forces us to assume and extrapolate rather than providing the necessary details to further understand what drives humans to miss their appointments. \n",
    "\n"
   ]
  },
  {
   "cell_type": "markdown",
   "metadata": {},
   "source": [
    "### Limitations and Missing Information"
   ]
  },
  {
   "cell_type": "markdown",
   "metadata": {},
   "source": [
    "While researching the distribution of days until appointment or said another way, amount of time between the day the patient scheduled the appointment and the actual appointment date itself. I noticed that majority were same day appointments and I wonder could these be walk in patients? It would be nice if we were being given that information as the likelihood of a walk in patient no showing is almost none therefore this could seriously compromise the integrity of the analysis. I have included a list of some other information that in my opinion could enable us to do a more comprehensive analysis.\n",
    "A few limitations of the data include but are not limited to:\n",
    "•\tReason for appointment, this could help us dive deeper to better understand are patients skipping less important appointments\n",
    "•\tType of doctor, are attendance rates the same for all types of doctors?\n",
    "•\tLast visit to doctor, can further help us segment and profile our patients better\n",
    "•\tDid they cancel their last appointment made? Are patients who skipped their last appointments more likely to skip their next?\n",
    "•\tMode of transportation, to see whether or not transportation is a barrier for some patients\n"
   ]
  }
 ],
 "metadata": {
  "kernelspec": {
   "display_name": "Python 2",
   "language": "python",
   "name": "python2"
  },
  "language_info": {
   "codemirror_mode": {
    "name": "ipython",
    "version": 2
   },
   "file_extension": ".py",
   "mimetype": "text/x-python",
   "name": "python",
   "nbconvert_exporter": "python",
   "pygments_lexer": "ipython2",
   "version": "2.7.15"
  }
 },
 "nbformat": 4,
 "nbformat_minor": 2
}
